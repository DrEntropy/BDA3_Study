{
 "cells": [
  {
   "cell_type": "markdown",
   "id": "d29e62fa",
   "metadata": {},
   "source": [
    "## Lesson 10 rough notes\n",
    "\n",
    "TBD"
   ]
  }
 ],
 "metadata": {
  "language_info": {
   "name": "python"
  }
 },
 "nbformat": 4,
 "nbformat_minor": 5
}
